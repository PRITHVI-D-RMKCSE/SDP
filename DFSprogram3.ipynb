{
  "nbformat": 4,
  "nbformat_minor": 0,
  "metadata": {
    "colab": {
      "provenance": [],
      "authorship_tag": "ABX9TyOrT3LWsHx6WI0YSvhzn8jJ",
      "include_colab_link": true
    },
    "kernelspec": {
      "name": "python3",
      "display_name": "Python 3"
    },
    "language_info": {
      "name": "python"
    }
  },
  "cells": [
    {
      "cell_type": "markdown",
      "metadata": {
        "id": "view-in-github",
        "colab_type": "text"
      },
      "source": [
        "<a href=\"https://colab.research.google.com/github/PRITHVI-D-RMKCSE/SDP/blob/main/DFSprogram3.ipynb\" target=\"_parent\"><img src=\"https://colab.research.google.com/assets/colab-badge.svg\" alt=\"Open In Colab\"/></a>"
      ]
    },
    {
      "cell_type": "code",
      "execution_count": 1,
      "metadata": {
        "colab": {
          "base_uri": "https://localhost:8080/"
        },
        "id": "5z_M7Jan_k_p",
        "outputId": "55b53e89-deb0-4e0b-bdce-100c7bc25172"
      },
      "outputs": [
        {
          "output_type": "stream",
          "name": "stdout",
          "text": [
            "Minimum moves to solve the puzzle: 4\n"
          ]
        }
      ],
      "source": [
        "class Solution:\n",
        "    def solve(self, board):\n",
        "        # Dictionary to track visited states\n",
        "        state_dict = {}\n",
        "        # Flatten the board into a tuple for easier manipulation\n",
        "        flatten = [num for row in board for num in row]\n",
        "        flatten = tuple(flatten)\n",
        "        state_dict[flatten] = 0\n",
        "\n",
        "        # Check if the initial board is already the solution\n",
        "        if flatten == (0, 1, 2, 3, 4, 5, 6, 7, 8):\n",
        "            return 0\n",
        "\n",
        "        return self.get_paths(state_dict)\n",
        "\n",
        "    def get_paths(self, state_dict):\n",
        "        cnt = 0\n",
        "        while True:\n",
        "            current_nodes = [x for x in state_dict if state_dict[x] == cnt]\n",
        "\n",
        "            # If there are no current nodes, return -1 (unsolvable state)\n",
        "            if not current_nodes:\n",
        "                return -1\n",
        "\n",
        "            for node in current_nodes:\n",
        "                next_moves = self.find_next(node)\n",
        "                for move in next_moves:\n",
        "                    if move not in state_dict:\n",
        "                        state_dict[move] = cnt + 1\n",
        "                        # Check if the solution is found\n",
        "                        if move == (0, 1, 2, 3, 4, 5, 6, 7, 8):\n",
        "                            return cnt + 1\n",
        "            cnt += 1\n",
        "\n",
        "    def find_next(self, node):\n",
        "        # Possible moves for each index\n",
        "        moves = {\n",
        "            0: [1, 3],\n",
        "            1: [0, 2, 4],\n",
        "            2: [1, 5],\n",
        "            3: [0, 4, 6],\n",
        "            4: [1, 3, 5, 7],\n",
        "            5: [2, 4, 8],\n",
        "            6: [3, 7],\n",
        "            7: [4, 6, 8],\n",
        "            8: [5, 7],\n",
        "        }\n",
        "\n",
        "        results = []\n",
        "        pos_0 = node.index(0)\n",
        "        for move in moves[pos_0]:\n",
        "            new_node = list(node)\n",
        "            # Swap positions to generate the next state\n",
        "            new_node[move], new_node[pos_0] = new_node[pos_0], new_node[move]\n",
        "            results.append(tuple(new_node))\n",
        "\n",
        "        return results\n",
        "\n",
        "# Example usage\n",
        "if __name__ == \"__main__\":\n",
        "    ob = Solution()\n",
        "    matrix = [\n",
        "        [3, 1, 2],\n",
        "        [4, 7, 5],\n",
        "        [6, 8, 0]\n",
        "    ]\n",
        "    print(\"Minimum moves to solve the puzzle:\", ob.solve(matrix))\n"
      ]
    },
    {
      "cell_type": "code",
      "source": [
        "print(\"Enter the number of queens\")\n",
        "N = int(input())\n",
        "\n",
        "# Create a chessboard NxN matrix with all elements set to 0\n",
        "board = [[0] * N for _ in range(N)]\n",
        "\n",
        "def is_safe(i, j):\n",
        "    # Check vertically and horizontally\n",
        "    for k in range(N):\n",
        "        if board[i][k] == 1 or board[k][j] == 1:\n",
        "            return False\n",
        "\n",
        "    # Check diagonally\n",
        "    for k in range(N):\n",
        "        for l in range(N):\n",
        "            if (k + l == i + j or k - l == i - j) and board[k][l] == 1:\n",
        "                return False\n",
        "\n",
        "    return True\n",
        "\n",
        "def solve_n_queens(n):\n",
        "    if n == 0:\n",
        "        return True\n",
        "\n",
        "    for i in range(N):\n",
        "        for j in range(N):\n",
        "            if not is_safe(i, j):\n",
        "                continue\n",
        "            if board[i][j] != 1:\n",
        "                board[i][j] = 1\n",
        "                if solve_n_queens(n - 1):\n",
        "                    return True\n",
        "                board[i][j] = 0\n",
        "\n",
        "    return False\n",
        "\n",
        "# Check if a solution exists\n",
        "if solve_n_queens(N):\n",
        "    print(\"Solution exists. Placements of queens:\")\n",
        "    for row in board:\n",
        "        print(row)\n",
        "else:\n",
        "    print(\"No solution exists.\")\n"
      ],
      "metadata": {
        "colab": {
          "base_uri": "https://localhost:8080/"
        },
        "id": "I8se7-0PBi4N",
        "outputId": "9b2dddd9-4843-44bd-da77-35da6d484e53"
      },
      "execution_count": 4,
      "outputs": [
        {
          "output_type": "stream",
          "name": "stdout",
          "text": [
            "Enter the number of queens\n",
            "8\n",
            "Solution exists. Placements of queens:\n",
            "[1, 0, 0, 0, 0, 0, 0, 0]\n",
            "[0, 0, 0, 0, 1, 0, 0, 0]\n",
            "[0, 0, 0, 0, 0, 0, 0, 1]\n",
            "[0, 0, 0, 0, 0, 1, 0, 0]\n",
            "[0, 0, 1, 0, 0, 0, 0, 0]\n",
            "[0, 0, 0, 0, 0, 0, 1, 0]\n",
            "[0, 1, 0, 0, 0, 0, 0, 0]\n",
            "[0, 0, 0, 1, 0, 0, 0, 0]\n"
          ]
        }
      ]
    },
    {
      "cell_type": "code",
      "source": [
        "from collections import defaultdict\n",
        "\n",
        "class Graph:\n",
        "    def __init__(self):\n",
        "        # Default dictionary to store the graph\n",
        "        self.graph = defaultdict(list)\n",
        "        # List to track visited nodes\n",
        "        self.visited = []\n",
        "\n",
        "    # Function to add an edge to the graph\n",
        "    def add_edge(self, u, v):\n",
        "        self.graph[u].append(v)\n",
        "\n",
        "    # Function to perform BFS traversal\n",
        "    def bfs(self, s):\n",
        "        # Create a queue for BFS\n",
        "        queue = []\n",
        "        # Mark the source node as visited and enqueue it\n",
        "        queue.append(s)\n",
        "        self.visited.append(s)\n",
        "\n",
        "        while queue:\n",
        "            # Dequeue a vertex from the queue and print it\n",
        "            s = queue.pop(0)\n",
        "            print(s, end=\" \")\n",
        "\n",
        "            # Get all adjacent vertices of the dequeued vertex\n",
        "            # If an adjacent vertex has not been visited, mark it and enqueue it\n",
        "            for i in self.graph[s]:\n",
        "                if i not in self.visited:\n",
        "                    queue.append(i)\n",
        "                    self.visited.append(i)\n",
        "\n",
        "# Driver code\n",
        "if __name__ == \"__main__\":\n",
        "    # Create a graph\n",
        "    g = Graph()\n",
        "    g.add_edge(0, 1)\n",
        "    g.add_edge(0, 2)\n",
        "    g.add_edge(1, 2)\n",
        "    g.add_edge(2, 0)\n",
        "    g.add_edge(2, 3)\n",
        "    g.add_edge(3, 3)\n",
        "\n",
        "    print(\"Following is Breadth First Traversal (starting from vertex 2):\")\n",
        "    g.bfs(2)"
      ],
      "metadata": {
        "colab": {
          "base_uri": "https://localhost:8080/"
        },
        "id": "SGJEPTPfCOzj",
        "outputId": "39bb7796-411b-4cb1-cd4c-bc19c735e94f"
      },
      "execution_count": 5,
      "outputs": [
        {
          "output_type": "stream",
          "name": "stdout",
          "text": [
            "Following is Breadth First Traversal (starting from vertex 2):\n",
            "2 0 3 1 "
          ]
        }
      ]
    },
    {
      "cell_type": "code",
      "source": [
        "from collections import defaultdict\n",
        "\n",
        "class Graph:\n",
        "    def __init__(self):\n",
        "        # Default dictionary to store the graph\n",
        "        self.graph = defaultdict(list)\n",
        "\n",
        "    # Function to add an edge to the graph\n",
        "    def add_edge(self, u, v):\n",
        "        self.graph[u].append(v)\n",
        "\n",
        "    # A utility function for the DFS algorithm\n",
        "    def _dfs_util(self, v, visited):\n",
        "        # Mark the current node as visited and print it\n",
        "        visited.add(v)\n",
        "        print(v, end=' ')\n",
        "\n",
        "        # Recur for all adjacent vertices\n",
        "        for neighbour in self.graph[v]:\n",
        "            if neighbour not in visited:\n",
        "                self._dfs_util(neighbour, visited)\n",
        "\n",
        "    # Function to perform DFS traversal\n",
        "    def dfs(self, v):\n",
        "        # Create a set to store visited vertices\n",
        "        visited = set()\n",
        "        # Call the recursive helper function to print DFS traversal\n",
        "        self._dfs_util(v, visited)\n",
        "\n",
        "    # Function to perform BFS traversal\n",
        "    def bfs(self, s):\n",
        "        # Create a queue for BFS\n",
        "        queue = []\n",
        "        visited = []\n",
        "\n",
        "        # Mark the source node as visited and enqueue it\n",
        "        queue.append(s)\n",
        "        visited.append(s)\n",
        "\n",
        "        while queue:\n",
        "            # Dequeue a vertex from the queue and print it\n",
        "            s = queue.pop(0)\n",
        "            print(s, end=\" \")\n",
        "\n",
        "            # Get all adjacent vertices of the dequeued vertex\n",
        "            # If an adjacent vertex has not been visited, mark it and enqueue it\n",
        "            for i in self.graph[s]:\n",
        "                if i not in visited:\n",
        "                    queue.append(i)\n",
        "                    visited.append(i)\n",
        "\n",
        "# Driver code\n",
        "if __name__ == \"__main__\":\n",
        "    # Create a graph\n",
        "    g = Graph()\n",
        "    g.add_edge(0, 1)\n",
        "    g.add_edge(0, 2)\n",
        "    g.add_edge(1, 2)\n",
        "    g.add_edge(2, 0)\n",
        "    g.add_edge(2, 3)\n",
        "    g.add_edge(3, 3)\n",
        "\n",
        "    print(\"Following is Depth First Traversal (starting from vertex 2):\")\n",
        "    g.dfs(2)\n",
        "\n",
        "    print(\"\\nFollowing is Breadth First Traversal (starting from vertex 2):\")\n",
        "    g.bfs(2)\n"
      ],
      "metadata": {
        "id": "-2TuRyYZC8fq",
        "outputId": "647c77c6-8492-4b25-dca1-74a12b74344b",
        "colab": {
          "base_uri": "https://localhost:8080/"
        }
      },
      "execution_count": 6,
      "outputs": [
        {
          "output_type": "stream",
          "name": "stdout",
          "text": [
            "Following is Depth First Traversal (starting from vertex 2):\n",
            "2 0 1 3 \n",
            "Following is Breadth First Traversal (starting from vertex 2):\n",
            "2 0 3 1 "
          ]
        }
      ]
    }
  ]
}