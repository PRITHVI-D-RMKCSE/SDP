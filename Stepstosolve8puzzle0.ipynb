{
  "nbformat": 4,
  "nbformat_minor": 0,
  "metadata": {
    "colab": {
      "provenance": [],
      "authorship_tag": "ABX9TyOuwDj9SyYTz0M/SMm47YaK",
      "include_colab_link": true
    },
    "kernelspec": {
      "name": "python3",
      "display_name": "Python 3"
    },
    "language_info": {
      "name": "python"
    }
  },
  "cells": [
    {
      "cell_type": "markdown",
      "metadata": {
        "id": "view-in-github",
        "colab_type": "text"
      },
      "source": [
        "<a href=\"https://colab.research.google.com/github/PRITHVI-D-RMKCSE/SDP/blob/main/Stepstosolve8puzzle0.ipynb\" target=\"_parent\"><img src=\"https://colab.research.google.com/assets/colab-badge.svg\" alt=\"Open In Colab\"/></a>"
      ]
    },
    {
      "cell_type": "code",
      "execution_count": 1,
      "metadata": {
        "colab": {
          "base_uri": "https://localhost:8080/"
        },
        "id": "5z_M7Jan_k_p",
        "outputId": "55b53e89-deb0-4e0b-bdce-100c7bc25172"
      },
      "outputs": [
        {
          "output_type": "stream",
          "name": "stdout",
          "text": [
            "Minimum moves to solve the puzzle: 4\n"
          ]
        }
      ],
      "source": [
        "class Solution:\n",
        "    def solve(self, board):\n",
        "        # Dictionary to track visited states\n",
        "        state_dict = {}\n",
        "        # Flatten the board into a tuple for easier manipulation\n",
        "        flatten = [num for row in board for num in row]\n",
        "        flatten = tuple(flatten)\n",
        "        state_dict[flatten] = 0\n",
        "\n",
        "        # Check if the initial board is already the solution\n",
        "        if flatten == (0, 1, 2, 3, 4, 5, 6, 7, 8):\n",
        "            return 0\n",
        "\n",
        "        return self.get_paths(state_dict)\n",
        "\n",
        "    def get_paths(self, state_dict):\n",
        "        cnt = 0\n",
        "        while True:\n",
        "            current_nodes = [x for x in state_dict if state_dict[x] == cnt]\n",
        "\n",
        "            # If there are no current nodes, return -1 (unsolvable state)\n",
        "            if not current_nodes:\n",
        "                return -1\n",
        "\n",
        "            for node in current_nodes:\n",
        "                next_moves = self.find_next(node)\n",
        "                for move in next_moves:\n",
        "                    if move not in state_dict:\n",
        "                        state_dict[move] = cnt + 1\n",
        "                        # Check if the solution is found\n",
        "                        if move == (0, 1, 2, 3, 4, 5, 6, 7, 8):\n",
        "                            return cnt + 1\n",
        "            cnt += 1\n",
        "\n",
        "    def find_next(self, node):\n",
        "        # Possible moves for each index\n",
        "        moves = {\n",
        "            0: [1, 3],\n",
        "            1: [0, 2, 4],\n",
        "            2: [1, 5],\n",
        "            3: [0, 4, 6],\n",
        "            4: [1, 3, 5, 7],\n",
        "            5: [2, 4, 8],\n",
        "            6: [3, 7],\n",
        "            7: [4, 6, 8],\n",
        "            8: [5, 7],\n",
        "        }\n",
        "\n",
        "        results = []\n",
        "        pos_0 = node.index(0)\n",
        "        for move in moves[pos_0]:\n",
        "            new_node = list(node)\n",
        "            # Swap positions to generate the next state\n",
        "            new_node[move], new_node[pos_0] = new_node[pos_0], new_node[move]\n",
        "            results.append(tuple(new_node))\n",
        "\n",
        "        return results\n",
        "\n",
        "# Example usage\n",
        "if __name__ == \"__main__\":\n",
        "    ob = Solution()\n",
        "    matrix = [\n",
        "        [3, 1, 2],\n",
        "        [4, 7, 5],\n",
        "        [6, 8, 0]\n",
        "    ]\n",
        "    print(\"Minimum moves to solve the puzzle:\", ob.solve(matrix))\n"
      ]
    }
  ]
}